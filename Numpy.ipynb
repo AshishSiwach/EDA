{
  "nbformat": 4,
  "nbformat_minor": 0,
  "metadata": {
    "colab": {
      "name": "Numpy.ipynb",
      "provenance": [],
      "collapsed_sections": [],
      "authorship_tag": "ABX9TyN4iOQ+JRlNBDqd6T6vVZeE",
      "include_colab_link": true
    },
    "kernelspec": {
      "name": "python3",
      "display_name": "Python 3"
    },
    "language_info": {
      "name": "python"
    }
  },
  "cells": [
    {
      "cell_type": "markdown",
      "metadata": {
        "id": "view-in-github",
        "colab_type": "text"
      },
      "source": [
        "<a href=\"https://colab.research.google.com/github/AshishSiwach/Numpy/blob/main/Numpy.ipynb\" target=\"_parent\"><img src=\"https://colab.research.google.com/assets/colab-badge.svg\" alt=\"Open In Colab\"/></a>"
      ]
    },
    {
      "cell_type": "code",
      "execution_count": 2,
      "metadata": {
        "id": "68M0nLjfuAZG"
      },
      "outputs": [],
      "source": [
        "import numpy as np"
      ]
    },
    {
      "cell_type": "markdown",
      "source": [
        "### Vectors\n",
        "One dimensional arrays"
      ],
      "metadata": {
        "id": "5qBRF0hmuPRe"
      }
    },
    {
      "cell_type": "code",
      "source": [
        "# Creating a row vector\n",
        "vec_row = np.array([2, 4, 6])\n",
        "# Creating a column vector\n",
        "vec_col = np.array([[2], [4], [6]])"
      ],
      "metadata": {
        "id": "blLsxm3duDYL"
      },
      "execution_count": null,
      "outputs": []
    },
    {
      "cell_type": "code",
      "source": [
        "vec_row"
      ],
      "metadata": {
        "colab": {
          "base_uri": "https://localhost:8080/"
        },
        "id": "CWiOW0WGvJWv",
        "outputId": "3ad5aa6e-d203-4915-b705-102550ec7784"
      },
      "execution_count": null,
      "outputs": [
        {
          "output_type": "execute_result",
          "data": {
            "text/plain": [
              "array([2, 4, 6])"
            ]
          },
          "metadata": {},
          "execution_count": 3
        }
      ]
    },
    {
      "cell_type": "code",
      "source": [
        "vec_col"
      ],
      "metadata": {
        "colab": {
          "base_uri": "https://localhost:8080/"
        },
        "id": "ruHUYm_7vK8E",
        "outputId": "1b5d9e56-1eca-448c-c78e-1bff9c6a65ab"
      },
      "execution_count": null,
      "outputs": [
        {
          "output_type": "execute_result",
          "data": {
            "text/plain": [
              "array([[2],\n",
              "       [4],\n",
              "       [6]])"
            ]
          },
          "metadata": {},
          "execution_count": 4
        }
      ]
    },
    {
      "cell_type": "code",
      "source": [
        "# Creating a two dimensional array\n",
        "matrix = np.array([\n",
        "                   [1, 2, 3],\n",
        "                   [4, 5, 6]\n",
        "])\n",
        "matrix"
      ],
      "metadata": {
        "colab": {
          "base_uri": "https://localhost:8080/"
        },
        "id": "lAoWiZqjvMg5",
        "outputId": "92182a5b-ee01-4f96-ebf1-67667a15e444"
      },
      "execution_count": null,
      "outputs": [
        {
          "output_type": "execute_result",
          "data": {
            "text/plain": [
              "array([[1, 2, 3],\n",
              "       [4, 5, 6]])"
            ]
          },
          "metadata": {},
          "execution_count": 8
        }
      ]
    },
    {
      "cell_type": "code",
      "source": [
        "matrix.ndim"
      ],
      "metadata": {
        "colab": {
          "base_uri": "https://localhost:8080/"
        },
        "id": "wD36k58cvxQ4",
        "outputId": "14a13cc7-4cf8-4129-a412-f14c9f572dcb"
      },
      "execution_count": null,
      "outputs": [
        {
          "output_type": "execute_result",
          "data": {
            "text/plain": [
              "2"
            ]
          },
          "metadata": {},
          "execution_count": 6
        }
      ]
    },
    {
      "cell_type": "code",
      "source": [
        "matrix.shape"
      ],
      "metadata": {
        "colab": {
          "base_uri": "https://localhost:8080/"
        },
        "id": "0yVjDB7Yv5Fl",
        "outputId": "6fb45222-f4b4-498e-bd97-8543716166df"
      },
      "execution_count": null,
      "outputs": [
        {
          "output_type": "execute_result",
          "data": {
            "text/plain": [
              "(2, 3)"
            ]
          },
          "metadata": {},
          "execution_count": 9
        }
      ]
    },
    {
      "cell_type": "markdown",
      "source": [
        "Matrix has two rows and three columns"
      ],
      "metadata": {
        "id": "7GDy7sbvwLUr"
      }
    },
    {
      "cell_type": "code",
      "source": [
        "# Creating a three dimensional array\n",
        "arr_3d = np.array([\n",
        "                   [\n",
        "                    [1, 2, 3],\n",
        "                    [4, 5, 6]\n",
        "                   ],\n",
        "                   [\n",
        "                    [7, 8, 9],\n",
        "                    [10, 11, 12]\n",
        "                   ]\n",
        "])\n",
        "arr_3d"
      ],
      "metadata": {
        "colab": {
          "base_uri": "https://localhost:8080/"
        },
        "id": "s3V38yvHwFHp",
        "outputId": "9462a9a1-1a7e-4b7d-fab5-cc2e23b70e89"
      },
      "execution_count": null,
      "outputs": [
        {
          "output_type": "execute_result",
          "data": {
            "text/plain": [
              "array([[[ 1,  2,  3],\n",
              "        [ 4,  5,  6]],\n",
              "\n",
              "       [[ 7,  8,  9],\n",
              "        [10, 11, 12]]])"
            ]
          },
          "metadata": {},
          "execution_count": 10
        }
      ]
    },
    {
      "cell_type": "code",
      "source": [
        "arr_3d.ndim # Number of dimensions of an array"
      ],
      "metadata": {
        "colab": {
          "base_uri": "https://localhost:8080/"
        },
        "id": "hpC3XkR2xDk3",
        "outputId": "f312eee3-ba54-4375-f690-55e491f5c2b2"
      },
      "execution_count": null,
      "outputs": [
        {
          "output_type": "execute_result",
          "data": {
            "text/plain": [
              "3"
            ]
          },
          "metadata": {},
          "execution_count": 11
        }
      ]
    },
    {
      "cell_type": "code",
      "source": [
        "arr_3d.shape # returns a tuple containing number of rows and columns in an array\n",
        "# So two matrices with two rows and three columns"
      ],
      "metadata": {
        "colab": {
          "base_uri": "https://localhost:8080/"
        },
        "id": "w-FZqu8ExUMj",
        "outputId": "7eaf201c-4a63-4481-a2e5-51bc755b2887"
      },
      "execution_count": null,
      "outputs": [
        {
          "output_type": "execute_result",
          "data": {
            "text/plain": [
              "(2, 2, 3)"
            ]
          },
          "metadata": {},
          "execution_count": 12
        }
      ]
    },
    {
      "cell_type": "code",
      "source": [
        "arr_3d.size # number of elements in an array"
      ],
      "metadata": {
        "colab": {
          "base_uri": "https://localhost:8080/"
        },
        "id": "IbxsBp7sxWVK",
        "outputId": "1c9461ba-0b68-498b-ecd6-656e26c8b71a"
      },
      "execution_count": null,
      "outputs": [
        {
          "output_type": "execute_result",
          "data": {
            "text/plain": [
              "12"
            ]
          },
          "metadata": {},
          "execution_count": 13
        }
      ]
    },
    {
      "cell_type": "markdown",
      "source": [
        "### Other ways of creating numpy arrays"
      ],
      "metadata": {
        "id": "K3q2e9gCx0Qy"
      }
    },
    {
      "cell_type": "code",
      "source": [
        "np.ones((3, 4)) # array of ones"
      ],
      "metadata": {
        "colab": {
          "base_uri": "https://localhost:8080/"
        },
        "id": "nc372aOmxrCg",
        "outputId": "2944e317-f93d-490f-8aba-347c298ce051"
      },
      "execution_count": null,
      "outputs": [
        {
          "output_type": "execute_result",
          "data": {
            "text/plain": [
              "array([[1., 1., 1., 1.],\n",
              "       [1., 1., 1., 1.],\n",
              "       [1., 1., 1., 1.]])"
            ]
          },
          "metadata": {},
          "execution_count": 14
        }
      ]
    },
    {
      "cell_type": "code",
      "source": [
        "np.zeros((3, 2)) # array of zeros"
      ],
      "metadata": {
        "colab": {
          "base_uri": "https://localhost:8080/"
        },
        "id": "xpMvUN-CyiUv",
        "outputId": "cf2480ba-f203-4b6c-de5c-264fa0a0a8dd"
      },
      "execution_count": null,
      "outputs": [
        {
          "output_type": "execute_result",
          "data": {
            "text/plain": [
              "array([[0., 0.],\n",
              "       [0., 0.],\n",
              "       [0., 0.]])"
            ]
          },
          "metadata": {},
          "execution_count": 15
        }
      ]
    },
    {
      "cell_type": "code",
      "source": [
        "np.random.randn(2, 3)\n",
        "# Returns samples from a standard normal distribution"
      ],
      "metadata": {
        "colab": {
          "base_uri": "https://localhost:8080/"
        },
        "id": "5x9Y7A7Cyn64",
        "outputId": "f1bb9432-7fc0-41d2-8b0b-290c3d5d3802"
      },
      "execution_count": null,
      "outputs": [
        {
          "output_type": "execute_result",
          "data": {
            "text/plain": [
              "array([[-1.34644181,  0.48739575, -0.80845776],\n",
              "       [-0.90871336, -0.84533754,  0.57042127]])"
            ]
          },
          "metadata": {},
          "execution_count": 16
        }
      ]
    },
    {
      "cell_type": "code",
      "source": [
        "np.random.rand(2, 3)\n",
        "# Returns samples from a uniform distribution"
      ],
      "metadata": {
        "colab": {
          "base_uri": "https://localhost:8080/"
        },
        "id": "pkCiRwa5y92Z",
        "outputId": "dbd48105-b216-4fab-f78e-8b63e5d727ed"
      },
      "execution_count": null,
      "outputs": [
        {
          "output_type": "execute_result",
          "data": {
            "text/plain": [
              "array([[0.45272466, 0.78655902, 0.34543591],\n",
              "       [0.38911113, 0.6401906 , 0.58982325]])"
            ]
          },
          "metadata": {},
          "execution_count": 17
        }
      ]
    },
    {
      "cell_type": "code",
      "source": [
        "np.random.randint(low = 0, high = 100, size = (2, 3))\n",
        "# Return random integers from `low` (inclusive)\n",
        "# to `high` (exclusive).\n",
        "\n",
        "# Return random integers from the \"discrete uniform\"\n",
        "# distribution"
      ],
      "metadata": {
        "colab": {
          "base_uri": "https://localhost:8080/"
        },
        "id": "1_EtPO0d2tUP",
        "outputId": "8c1e1101-fe0d-4765-b53d-ea45f324f43a"
      },
      "execution_count": null,
      "outputs": [
        {
          "output_type": "execute_result",
          "data": {
            "text/plain": [
              "array([[34, 25, 40],\n",
              "       [65, 61, 29]])"
            ]
          },
          "metadata": {},
          "execution_count": 18
        }
      ]
    },
    {
      "cell_type": "code",
      "source": [
        "np.arange(7, 71, 7) # params start, stop and step size"
      ],
      "metadata": {
        "colab": {
          "base_uri": "https://localhost:8080/"
        },
        "id": "diIPqt-f3Klt",
        "outputId": "1639f99a-c2ed-46be-f4de-d05ea2b35be2"
      },
      "execution_count": null,
      "outputs": [
        {
          "output_type": "execute_result",
          "data": {
            "text/plain": [
              "array([ 7, 14, 21, 28, 35, 42, 49, 56, 63, 70])"
            ]
          },
          "metadata": {},
          "execution_count": 19
        }
      ]
    },
    {
      "cell_type": "code",
      "source": [
        "np.linspace(7, 70, 10)\n",
        "# Return evenly spaced numbers over a specified interval.\n",
        "# start,\n",
        "#    stop,\n",
        "#    num=50,\n",
        "#    endpoint=True,\n",
        "#    retstep=False,\n",
        "#    dtype=None,\n",
        "#    axis=0,\n",
        "# Returns `num` evenly spaced samples, calculated over the\n",
        "# interval [`start`, `stop`].\n",
        "\n",
        "# The endpoint of the interval can optionally be excluded."
      ],
      "metadata": {
        "colab": {
          "base_uri": "https://localhost:8080/"
        },
        "id": "GZBRdpoQ3awk",
        "outputId": "f764b17d-1532-4342-b088-05d4a94ee8ed"
      },
      "execution_count": null,
      "outputs": [
        {
          "output_type": "execute_result",
          "data": {
            "text/plain": [
              "array([ 7., 14., 21., 28., 35., 42., 49., 56., 63., 70.])"
            ]
          },
          "metadata": {},
          "execution_count": 20
        }
      ]
    },
    {
      "cell_type": "code",
      "source": [
        "# array of Booleans\n",
        "np.array([True, False, True, True])"
      ],
      "metadata": {
        "colab": {
          "base_uri": "https://localhost:8080/"
        },
        "id": "S1KtDCPh30vz",
        "outputId": "fb1a2815-63a7-4ca6-c0fb-0a2d20c2f4c2"
      },
      "execution_count": null,
      "outputs": [
        {
          "output_type": "execute_result",
          "data": {
            "text/plain": [
              "array([ True, False,  True,  True])"
            ]
          },
          "metadata": {},
          "execution_count": 21
        }
      ]
    },
    {
      "cell_type": "code",
      "source": [
        "str_arr = ['a', 'b', 'c'] # array with string data type elements\n",
        "str_arr"
      ],
      "metadata": {
        "colab": {
          "base_uri": "https://localhost:8080/"
        },
        "id": "duJVHjTc4Pwh",
        "outputId": "005a4c39-5685-4286-b0cf-54976dca46e8"
      },
      "execution_count": null,
      "outputs": [
        {
          "output_type": "execute_result",
          "data": {
            "text/plain": [
              "['a', 'b', 'c']"
            ]
          },
          "metadata": {},
          "execution_count": 22
        }
      ]
    },
    {
      "cell_type": "code",
      "source": [
        "st_arr = ['1.1', '1.02', '2.21']\n",
        "# Convert the arr to float data type elements\n",
        "arr = np.array(st_arr, dtype = 'float')\n",
        "print(arr)\n",
        "print(arr.dtype)"
      ],
      "metadata": {
        "colab": {
          "base_uri": "https://localhost:8080/"
        },
        "id": "7bq9FFie4aJN",
        "outputId": "d76000bc-4654-4302-da55-8578028f361e"
      },
      "execution_count": null,
      "outputs": [
        {
          "output_type": "stream",
          "name": "stdout",
          "text": [
            "[1.1  1.02 2.21]\n",
            "float64\n"
          ]
        }
      ]
    },
    {
      "cell_type": "markdown",
      "source": [
        "### Indexing"
      ],
      "metadata": {
        "id": "rHM99iPb5Vs5"
      }
    },
    {
      "cell_type": "code",
      "source": [
        "vec_row = np.array([2, 4, 6])\n",
        "vec_row[0]"
      ],
      "metadata": {
        "colab": {
          "base_uri": "https://localhost:8080/"
        },
        "id": "uYsXz9yn5GLL",
        "outputId": "84bbe0b1-3b47-41e1-9e1c-386a0264dbe7"
      },
      "execution_count": null,
      "outputs": [
        {
          "output_type": "execute_result",
          "data": {
            "text/plain": [
              "2"
            ]
          },
          "metadata": {},
          "execution_count": 25
        }
      ]
    },
    {
      "cell_type": "code",
      "source": [
        "vec_row[1]"
      ],
      "metadata": {
        "colab": {
          "base_uri": "https://localhost:8080/"
        },
        "id": "NXdktu5p6OIj",
        "outputId": "b6833c7c-7e27-45a2-eeaa-ec8da5001954"
      },
      "execution_count": null,
      "outputs": [
        {
          "output_type": "execute_result",
          "data": {
            "text/plain": [
              "4"
            ]
          },
          "metadata": {},
          "execution_count": 26
        }
      ]
    },
    {
      "cell_type": "code",
      "source": [
        "vec_row[2]"
      ],
      "metadata": {
        "colab": {
          "base_uri": "https://localhost:8080/"
        },
        "id": "ldmR09ak6Rq0",
        "outputId": "c052f10c-5961-4b07-af03-60706a50f664"
      },
      "execution_count": null,
      "outputs": [
        {
          "output_type": "execute_result",
          "data": {
            "text/plain": [
              "6"
            ]
          },
          "metadata": {},
          "execution_count": 27
        }
      ]
    },
    {
      "cell_type": "code",
      "source": [
        "matrix = np.array([\n",
        "                   [1, 2, 3],\n",
        "                   [4, 5, 6]\n",
        "])\n",
        "print(matrix[0, 0]) # first row and first column\n",
        "print(matrix[1, 2]) # second row and third column\n",
        "print(matrix[1, 1]) # second row and second column"
      ],
      "metadata": {
        "colab": {
          "base_uri": "https://localhost:8080/"
        },
        "id": "Eg44MLQB6VAD",
        "outputId": "752300c5-cfa3-412e-8dbe-1b81ec9e5da0"
      },
      "execution_count": null,
      "outputs": [
        {
          "output_type": "stream",
          "name": "stdout",
          "text": [
            "1\n",
            "6\n",
            "5\n"
          ]
        }
      ]
    },
    {
      "cell_type": "code",
      "source": [
        "print(matrix[:, :])\n",
        "print(matrix[:, 0:2])\n",
        "print(matrix[0:1, :])"
      ],
      "metadata": {
        "colab": {
          "base_uri": "https://localhost:8080/"
        },
        "id": "dBCxhKnzOFhF",
        "outputId": "38333eb5-dc4c-401a-a1a3-97516ad05355"
      },
      "execution_count": null,
      "outputs": [
        {
          "output_type": "stream",
          "name": "stdout",
          "text": [
            "[[1 2 3]\n",
            " [4 5 6]]\n",
            "[[1 2]\n",
            " [4 5]]\n",
            "[[1 2 3]]\n"
          ]
        }
      ]
    },
    {
      "cell_type": "code",
      "source": [
        "arr_3d = np.array([\n",
        "                   [\n",
        "                    [1, 2, 3],\n",
        "                    [4, 5, 6]\n",
        "                   ],\n",
        "                   [\n",
        "                    [7, 8, 9],\n",
        "                    [10, 11, 12]\n",
        "                   ]\n",
        "])\n",
        "print(arr_3d[0, 0, 0]) # first matrix first row and first column\n",
        "print(arr_3d[1, 0, 0]) # second matrix first row and first column\n",
        "print(arr_3d[0, 1, 2]) # first matrix second row and third column"
      ],
      "metadata": {
        "colab": {
          "base_uri": "https://localhost:8080/"
        },
        "id": "ww5MRcJf6iHu",
        "outputId": "1b1c354e-6e6c-4865-d6b6-cbe3f77010c2"
      },
      "execution_count": null,
      "outputs": [
        {
          "output_type": "stream",
          "name": "stdout",
          "text": [
            "1\n",
            "7\n",
            "6\n"
          ]
        }
      ]
    },
    {
      "cell_type": "code",
      "source": [
        "print('first matrix: ',arr_3d[0, :, :]) # gives first matrix\n",
        "print('second matrix: ',arr_3d[1, :, :]) # gives second matrix\n",
        "print('elements in second row of both matrices: ',arr_3d[:, 1, :]) # gives elements in the second row of both matrices\n",
        "print('first and second column elements: ',arr_3d[:, :, 0:2]) # gives elements in first and second column of both matrices"
      ],
      "metadata": {
        "colab": {
          "base_uri": "https://localhost:8080/"
        },
        "id": "gnAYZiqi7yR2",
        "outputId": "febd8b4a-6eea-4c54-ba1b-e8d67304f92a"
      },
      "execution_count": null,
      "outputs": [
        {
          "output_type": "stream",
          "name": "stdout",
          "text": [
            "first matrix:  [[1 2 3]\n",
            " [4 5 6]]\n",
            "second matrix:  [[ 7  8  9]\n",
            " [10 11 12]]\n",
            "elements in second row of both matrices:/n  [[ 4  5  6]\n",
            " [10 11 12]]\n",
            "first and second column elements:  [[[ 1  2]\n",
            "  [ 4  5]]\n",
            "\n",
            " [[ 7  8]\n",
            "  [10 11]]]\n"
          ]
        }
      ]
    },
    {
      "cell_type": "code",
      "source": [
        "# accessing even numbers in the array\n",
        "arr_3d[arr_3d % 2 == 0]"
      ],
      "metadata": {
        "colab": {
          "base_uri": "https://localhost:8080/"
        },
        "id": "-AP56t7r8rqa",
        "outputId": "752ecf4d-4728-4efd-9c90-d589dff26492"
      },
      "execution_count": null,
      "outputs": [
        {
          "output_type": "execute_result",
          "data": {
            "text/plain": [
              "array([ 2,  4,  6,  8, 10, 12])"
            ]
          },
          "metadata": {},
          "execution_count": 46
        }
      ]
    },
    {
      "cell_type": "code",
      "source": [
        "# accessing even numbers divisible by 3\n",
        "arr_3d[(arr_3d % 2 == 0) & (arr_3d % 3 == 0)]"
      ],
      "metadata": {
        "colab": {
          "base_uri": "https://localhost:8080/"
        },
        "id": "fC8zsdd0_9i6",
        "outputId": "1f840e73-b9bb-4ec1-9bd3-00895be7f98f"
      },
      "execution_count": null,
      "outputs": [
        {
          "output_type": "execute_result",
          "data": {
            "text/plain": [
              "array([ 6, 12])"
            ]
          },
          "metadata": {},
          "execution_count": 47
        }
      ]
    },
    {
      "cell_type": "code",
      "source": [
        "# Substitute value of an element in an array\n",
        "arr_3d[0, 1, 1] = 16\n",
        "arr_3d"
      ],
      "metadata": {
        "colab": {
          "base_uri": "https://localhost:8080/"
        },
        "id": "FW_cLypQARiF",
        "outputId": "b09210d3-bf0d-4429-d430-b47dc3be8fa8"
      },
      "execution_count": null,
      "outputs": [
        {
          "output_type": "execute_result",
          "data": {
            "text/plain": [
              "array([[[ 1,  2,  3],\n",
              "        [ 4, 16,  6]],\n",
              "\n",
              "       [[ 7,  8,  9],\n",
              "        [10, 11, 12]]])"
            ]
          },
          "metadata": {},
          "execution_count": 48
        }
      ]
    },
    {
      "cell_type": "markdown",
      "source": [
        "### Numpy Operations"
      ],
      "metadata": {
        "id": "SAuEysHEBRQo"
      }
    },
    {
      "cell_type": "code",
      "source": [
        "mat1 = np.random.rand(3, 4)\n",
        "mat2 = np.random.rand(3, 4)\n",
        "print('mat1: ',mat1)\n",
        "print('mat2: ',mat2)"
      ],
      "metadata": {
        "colab": {
          "base_uri": "https://localhost:8080/"
        },
        "id": "kWtXA7kyAwCG",
        "outputId": "0e4a92e2-dae1-47bb-c1a7-0525eee22224"
      },
      "execution_count": null,
      "outputs": [
        {
          "output_type": "stream",
          "name": "stdout",
          "text": [
            "mat1:  [[0.84430352 0.40143353 0.9573767  0.66129807]\n",
            " [0.00121679 0.90742976 0.09750756 0.31092596]\n",
            " [0.80455049 0.29525565 0.38506223 0.66763424]]\n",
            "mat2:  [[0.57804876 0.30687658 0.62419886 0.60154142]\n",
            " [0.38016187 0.47156864 0.42231672 0.71208139]\n",
            " [0.30145794 0.70278915 0.30136593 0.3305465 ]]\n"
          ]
        }
      ]
    },
    {
      "cell_type": "code",
      "source": [
        "mat1 + mat2 # element wise addition"
      ],
      "metadata": {
        "colab": {
          "base_uri": "https://localhost:8080/"
        },
        "id": "9jo25-wUO3j7",
        "outputId": "7537c6b0-bc58-420c-bd7f-42b2b7454ed3"
      },
      "execution_count": null,
      "outputs": [
        {
          "output_type": "execute_result",
          "data": {
            "text/plain": [
              "array([[1.33802493, 1.08627247, 0.44296226, 0.50342227],\n",
              "       [1.30536674, 1.21642606, 1.0155881 , 1.035474  ],\n",
              "       [0.83473501, 1.60761911, 1.21016533, 1.04563627]])"
            ]
          },
          "metadata": {},
          "execution_count": 55
        }
      ]
    },
    {
      "cell_type": "code",
      "source": [
        "mat1 - mat2 # element wise subtraction"
      ],
      "metadata": {
        "colab": {
          "base_uri": "https://localhost:8080/"
        },
        "id": "8vKR2LnMPEPM",
        "outputId": "085bd11c-c510-483c-ceae-0de1b991e48f"
      },
      "execution_count": null,
      "outputs": [
        {
          "output_type": "execute_result",
          "data": {
            "text/plain": [
              "array([[ 0.20994996, -0.02056887,  0.13852449, -0.01034445],\n",
              "       [-0.20749007, -0.0948804 , -0.2513629 , -0.87711686],\n",
              "       [-0.81819308,  0.33391344,  0.76065273, -0.42480374]])"
            ]
          },
          "metadata": {},
          "execution_count": 56
        }
      ]
    },
    {
      "cell_type": "code",
      "source": [
        "mat1 * mat2 # element wise multiplication"
      ],
      "metadata": {
        "colab": {
          "base_uri": "https://localhost:8080/"
        },
        "id": "EcjnHMbbPJhn",
        "outputId": "21a11f88-d580-4c9f-fa92-4be5ef4344b3"
      },
      "execution_count": null,
      "outputs": [
        {
          "output_type": "execute_result",
          "data": {
            "text/plain": [
              "array([[4.88048599e-01, 1.23190549e-01, 5.97593443e-01, 3.97798182e-01],\n",
              "       [4.62576859e-04, 4.27915416e-01, 4.11790726e-02, 2.21404588e-01],\n",
              "       [2.42538132e-01, 2.07502465e-01, 1.16044638e-01, 2.20684159e-01]])"
            ]
          },
          "metadata": {},
          "execution_count": 59
        }
      ]
    },
    {
      "cell_type": "code",
      "source": [
        "mat1/mat2 # element wise division"
      ],
      "metadata": {
        "colab": {
          "base_uri": "https://localhost:8080/"
        },
        "id": "9fWRVHBKPgn4",
        "outputId": "e3a34d84-0d45-4fc6-adf2-ce9515fbd3fa"
      },
      "execution_count": null,
      "outputs": [
        {
          "output_type": "execute_result",
          "data": {
            "text/plain": [
              "array([[1.46060951, 1.30812694, 1.53376874, 1.09933921],\n",
              "       [0.00320071, 1.92427927, 0.23088728, 0.43664385],\n",
              "       [2.66886486, 0.42011981, 1.27772318, 2.01978916]])"
            ]
          },
          "metadata": {},
          "execution_count": 62
        }
      ]
    },
    {
      "cell_type": "code",
      "source": [
        "# Finding maximum and minimum values in an array\n",
        "np.max(mat1)"
      ],
      "metadata": {
        "colab": {
          "base_uri": "https://localhost:8080/"
        },
        "id": "tMIB2NG4RD6_",
        "outputId": "583069d7-598b-40c7-8e9e-365f3c04e6ee"
      },
      "execution_count": null,
      "outputs": [
        {
          "output_type": "execute_result",
          "data": {
            "text/plain": [
              "0.9573766967294046"
            ]
          },
          "metadata": {},
          "execution_count": 63
        }
      ]
    },
    {
      "cell_type": "code",
      "source": [
        "np.min(mat2)"
      ],
      "metadata": {
        "colab": {
          "base_uri": "https://localhost:8080/"
        },
        "id": "svsns_LzRTeZ",
        "outputId": "a6a42950-2e6a-490f-ce27-526bbee2d83c"
      },
      "execution_count": null,
      "outputs": [
        {
          "output_type": "execute_result",
          "data": {
            "text/plain": [
              "0.3013659305226546"
            ]
          },
          "metadata": {},
          "execution_count": 64
        }
      ]
    },
    {
      "cell_type": "code",
      "source": [
        "# Finding max and min elements in each row and column of a matrix\n",
        "print('max in each column: ', np.max(mat1, axis = 0))\n",
        "print('min in each column: ', np.min(mat1, axis = 0))\n",
        "print('max in each row: ', np.max(mat1, axis = 1))\n",
        "print('min in each row: ', np.min(mat1, axis = 1))"
      ],
      "metadata": {
        "colab": {
          "base_uri": "https://localhost:8080/"
        },
        "id": "PcsNANX9Rc2Z",
        "outputId": "07595796-f9be-4780-8b5d-6fb7738f2a67"
      },
      "execution_count": null,
      "outputs": [
        {
          "output_type": "stream",
          "name": "stdout",
          "text": [
            "max in each column:  [0.84430352 0.90742976 0.9573767  0.66763424]\n",
            "min in each column:  [0.00121679 0.29525565 0.09750756 0.31092596]\n",
            "max in each row:  [0.9573767  0.90742976 0.80455049]\n",
            "min in each row:  [0.40143353 0.00121679 0.29525565]\n"
          ]
        }
      ]
    },
    {
      "cell_type": "code",
      "source": [
        "# Adding values in each row and column of a matrix\n",
        "print(np.sum(mat1, axis = 0)) # adding elements in a column\n",
        "print(np.sum(mat1, axis = 1)) # adding element in a row"
      ],
      "metadata": {
        "colab": {
          "base_uri": "https://localhost:8080/"
        },
        "id": "KD3jNU05Ro4_",
        "outputId": "f227b3dd-cade-4190-f2b4-82f6ed12899d"
      },
      "execution_count": null,
      "outputs": [
        {
          "output_type": "stream",
          "name": "stdout",
          "text": [
            "[1.6500708  1.60411893 1.43994649 1.63985827]\n",
            "[2.86441181 1.31708006 2.15250261]\n"
          ]
        }
      ]
    },
    {
      "cell_type": "markdown",
      "source": [
        "### Broadcasting"
      ],
      "metadata": {
        "id": "yC5J7Q8_QgUM"
      }
    },
    {
      "cell_type": "code",
      "source": [
        "arr = np.arange(8)\n",
        "arr"
      ],
      "metadata": {
        "id": "z-cFUKP3PkrV",
        "colab": {
          "base_uri": "https://localhost:8080/"
        },
        "outputId": "cb4a3c3d-d054-479f-a587-6c01cde9406f"
      },
      "execution_count": 2,
      "outputs": [
        {
          "output_type": "execute_result",
          "data": {
            "text/plain": [
              "array([0, 1, 2, 3, 4, 5, 6, 7])"
            ]
          },
          "metadata": {},
          "execution_count": 2
        }
      ]
    },
    {
      "cell_type": "code",
      "source": [
        "arr.reshape(4, 2)"
      ],
      "metadata": {
        "colab": {
          "base_uri": "https://localhost:8080/"
        },
        "id": "EfhwZSKS8SoP",
        "outputId": "2bb9bef5-06ab-43f8-d87c-c63905a545d9"
      },
      "execution_count": 3,
      "outputs": [
        {
          "output_type": "execute_result",
          "data": {
            "text/plain": [
              "array([[0, 1],\n",
              "       [2, 3],\n",
              "       [4, 5],\n",
              "       [6, 7]])"
            ]
          },
          "metadata": {},
          "execution_count": 3
        }
      ]
    },
    {
      "cell_type": "code",
      "source": [
        "arr = np.arange(24)\n",
        "arr"
      ],
      "metadata": {
        "colab": {
          "base_uri": "https://localhost:8080/"
        },
        "id": "q80rV_T88VYO",
        "outputId": "27edb0e6-38a5-4568-e01d-7cb2d8925935"
      },
      "execution_count": 6,
      "outputs": [
        {
          "output_type": "execute_result",
          "data": {
            "text/plain": [
              "array([ 0,  1,  2,  3,  4,  5,  6,  7,  8,  9, 10, 11, 12, 13, 14, 15, 16,\n",
              "       17, 18, 19, 20, 21, 22, 23])"
            ]
          },
          "metadata": {},
          "execution_count": 6
        }
      ]
    },
    {
      "cell_type": "code",
      "source": [
        "arr.reshape(6, 4)"
      ],
      "metadata": {
        "colab": {
          "base_uri": "https://localhost:8080/"
        },
        "id": "uc-HzQHf8dSt",
        "outputId": "9472d7d2-b614-4173-9170-2ba27ecdf995"
      },
      "execution_count": 7,
      "outputs": [
        {
          "output_type": "execute_result",
          "data": {
            "text/plain": [
              "array([[ 0,  1,  2,  3],\n",
              "       [ 4,  5,  6,  7],\n",
              "       [ 8,  9, 10, 11],\n",
              "       [12, 13, 14, 15],\n",
              "       [16, 17, 18, 19],\n",
              "       [20, 21, 22, 23]])"
            ]
          },
          "metadata": {},
          "execution_count": 7
        }
      ]
    },
    {
      "cell_type": "code",
      "source": [
        "arr.reshape(3, 2, 4) # three matrices of two rows and 4 columns"
      ],
      "metadata": {
        "colab": {
          "base_uri": "https://localhost:8080/"
        },
        "id": "vBzwk5im86Mt",
        "outputId": "66a58091-983d-402f-b667-5ddc4cde73be"
      },
      "execution_count": 8,
      "outputs": [
        {
          "output_type": "execute_result",
          "data": {
            "text/plain": [
              "array([[[ 0,  1,  2,  3],\n",
              "        [ 4,  5,  6,  7]],\n",
              "\n",
              "       [[ 8,  9, 10, 11],\n",
              "        [12, 13, 14, 15]],\n",
              "\n",
              "       [[16, 17, 18, 19],\n",
              "        [20, 21, 22, 23]]])"
            ]
          },
          "metadata": {},
          "execution_count": 8
        }
      ]
    },
    {
      "cell_type": "code",
      "source": [
        "arr1 = np.arange(6)\n",
        "arr2 = np.arange(5) # 1 row and 5 columns\n",
        "arr1.reshape(6, 1) + arr2\n",
        "# 1 row of second vector can be broadcasted to 6 rows and 1 column of first vector can be broadcasted to 5 columns"
      ],
      "metadata": {
        "colab": {
          "base_uri": "https://localhost:8080/"
        },
        "id": "s0Yp3rI_8_4T",
        "outputId": "0539697e-75bf-41bc-b961-b6ab1664e0ba"
      },
      "execution_count": 9,
      "outputs": [
        {
          "output_type": "execute_result",
          "data": {
            "text/plain": [
              "array([[0, 1, 2, 3, 4],\n",
              "       [1, 2, 3, 4, 5],\n",
              "       [2, 3, 4, 5, 6],\n",
              "       [3, 4, 5, 6, 7],\n",
              "       [4, 5, 6, 7, 8],\n",
              "       [5, 6, 7, 8, 9]])"
            ]
          },
          "metadata": {},
          "execution_count": 9
        }
      ]
    },
    {
      "cell_type": "code",
      "source": [
        "arr = np.arange(60).reshape(3, 4, 5)\n",
        "arr1 = np.ones((4, 1))\n",
        "arr + arr1\n",
        "# Missing dimension 3 is broadcasted to 3\n",
        "# 1 column is broadcasted to 5\n",
        "# Only 1 and missing dimensions can be broadcasted to make dimensions compatible"
      ],
      "metadata": {
        "colab": {
          "base_uri": "https://localhost:8080/"
        },
        "id": "y0MsBcJY-gl8",
        "outputId": "c41d1a43-724b-4db7-d8fa-44ee7a23c629"
      },
      "execution_count": 11,
      "outputs": [
        {
          "output_type": "execute_result",
          "data": {
            "text/plain": [
              "array([[[ 1.,  2.,  3.,  4.,  5.],\n",
              "        [ 6.,  7.,  8.,  9., 10.],\n",
              "        [11., 12., 13., 14., 15.],\n",
              "        [16., 17., 18., 19., 20.]],\n",
              "\n",
              "       [[21., 22., 23., 24., 25.],\n",
              "        [26., 27., 28., 29., 30.],\n",
              "        [31., 32., 33., 34., 35.],\n",
              "        [36., 37., 38., 39., 40.]],\n",
              "\n",
              "       [[41., 42., 43., 44., 45.],\n",
              "        [46., 47., 48., 49., 50.],\n",
              "        [51., 52., 53., 54., 55.],\n",
              "        [56., 57., 58., 59., 60.]]])"
            ]
          },
          "metadata": {},
          "execution_count": 11
        }
      ]
    },
    {
      "cell_type": "code",
      "source": [
        "mat1 = np.random.rand(3, 4)\n",
        "mat2 = np.random.rand(1, 4)\n",
        "mat1 * mat2\n",
        "# normal asterisk multiplication is carried out by multiplying corresponding elements in two matrices\n",
        "# eg multiplying a[i][j] with b[i][j]\n",
        "# it works by broadcasting dimensions of two arrays"
      ],
      "metadata": {
        "colab": {
          "base_uri": "https://localhost:8080/"
        },
        "id": "drXQ_wcMADsl",
        "outputId": "9d5434f8-1688-471f-edec-1a57054bb0b6"
      },
      "execution_count": 12,
      "outputs": [
        {
          "output_type": "execute_result",
          "data": {
            "text/plain": [
              "array([[0.61106367, 0.70323866, 0.08413558, 0.21581675],\n",
              "       [0.56818121, 0.79110299, 0.01860002, 0.3173132 ],\n",
              "       [0.21312227, 0.42836516, 0.16964318, 0.02990508]])"
            ]
          },
          "metadata": {},
          "execution_count": 12
        }
      ]
    },
    {
      "cell_type": "code",
      "source": [
        "# dot product is matrix multiplication where no. of columns of first matrix should be equal to no. of rows of second matrix\n",
        "np.dot(mat1, mat2.reshape(4, 1))"
      ],
      "metadata": {
        "colab": {
          "base_uri": "https://localhost:8080/"
        },
        "id": "9kl8Ln3kChVl",
        "outputId": "c693ccc1-357a-4330-ccc1-23bafa7e3a23"
      },
      "execution_count": 14,
      "outputs": [
        {
          "output_type": "execute_result",
          "data": {
            "text/plain": [
              "array([[1.61425466],\n",
              "       [1.69519742],\n",
              "       [0.84103568]])"
            ]
          },
          "metadata": {},
          "execution_count": 14
        }
      ]
    },
    {
      "cell_type": "code",
      "source": [
        "# https://www.geeksforgeeks.org/difference-between-numpy-dot-and-operation-in-python/\n",
        "a1 = np.array([\n",
        "               [10, 20],\n",
        "               [20, 40]\n",
        "])\n",
        "a2 = np.array([\n",
        "               [5, 10],\n",
        "               [10, 10]\n",
        "])\n",
        "print('asterisk element wise multiplication')\n",
        "print(a1 * a2)\n",
        "print('dot product')\n",
        "print(np.dot(a1, a2))\n",
        "print('dot product can also be done using @ symbol')\n",
        "print(a1 @ a2)"
      ],
      "metadata": {
        "colab": {
          "base_uri": "https://localhost:8080/"
        },
        "id": "k7nHKZEcCrnR",
        "outputId": "90b529b9-efe7-4162-b4b3-44d603b0d015"
      },
      "execution_count": 16,
      "outputs": [
        {
          "output_type": "stream",
          "name": "stdout",
          "text": [
            "asterisk element wise multiplication\n",
            "[[ 50 200]\n",
            " [200 400]]\n",
            "dot product\n",
            "[[250 300]\n",
            " [500 600]]\n",
            "dot product can also be done using @ symbol\n",
            "[[250 300]\n",
            " [500 600]]\n"
          ]
        }
      ]
    },
    {
      "cell_type": "code",
      "source": [
        "# Flatten a matrix\n",
        "m1 = np.arange(12).reshape(4, 3)\n",
        "print(m1.flatten())\n",
        "print(m1.reshape(1, -1)) # one row and any number of columns"
      ],
      "metadata": {
        "colab": {
          "base_uri": "https://localhost:8080/"
        },
        "id": "i4HZlbubHWN5",
        "outputId": "4a672f40-588d-4677-9e7e-238ce8e98ef6"
      },
      "execution_count": 18,
      "outputs": [
        {
          "output_type": "stream",
          "name": "stdout",
          "text": [
            "[ 0  1  2  3  4  5  6  7  8  9 10 11]\n",
            "[[ 0  1  2  3  4  5  6  7  8  9 10 11]]\n"
          ]
        }
      ]
    },
    {
      "cell_type": "code",
      "source": [
        "# Taking transpose of a matrix\n",
        "m1 = np.arange(6).reshape(3, 2)\n",
        "print('matrix')\n",
        "print(m1)\n",
        "print('Transpose of a matrix')\n",
        "print(m1.T)"
      ],
      "metadata": {
        "colab": {
          "base_uri": "https://localhost:8080/"
        },
        "id": "tVacgsl-GHWu",
        "outputId": "5f0d368f-d851-46ee-f332-ee530065a5e6"
      },
      "execution_count": 17,
      "outputs": [
        {
          "output_type": "stream",
          "name": "stdout",
          "text": [
            "matrix\n",
            "[[0 1]\n",
            " [2 3]\n",
            " [4 5]]\n",
            "Transpose of a matrix\n",
            "[[0 2 4]\n",
            " [1 3 5]]\n"
          ]
        }
      ]
    },
    {
      "cell_type": "code",
      "source": [
        "# Taking inverse of a matrix\n",
        "m = np.array([\n",
        "              [1, 2],\n",
        "              [3, 4]\n",
        "])\n",
        "m_inverse = np.linalg.inv(m) \n",
        "# multiplication of a matrix with its inverse gives identity matrix\n",
        "i = np.dot(m, m_inverse)\n",
        "print('matrix')\n",
        "print(m)\n",
        "print('Inverse of a matrix')\n",
        "print(m_inverse)\n",
        "print('multiplication of a matrix with its inverse')\n",
        "print(i)"
      ],
      "metadata": {
        "colab": {
          "base_uri": "https://localhost:8080/"
        },
        "id": "U2EzGD7JHKvX",
        "outputId": "0e82736e-6145-47ed-9eca-33289e622e64"
      },
      "execution_count": 19,
      "outputs": [
        {
          "output_type": "stream",
          "name": "stdout",
          "text": [
            "matrix\n",
            "[[1 2]\n",
            " [3 4]]\n",
            "Inverse of a matrix\n",
            "[[-2.   1. ]\n",
            " [ 1.5 -0.5]]\n",
            "multiplication of a matrix with its inverse\n",
            "[[1.0000000e+00 0.0000000e+00]\n",
            " [8.8817842e-16 1.0000000e+00]]\n"
          ]
        }
      ]
    },
    {
      "cell_type": "markdown",
      "source": [
        "## Stats with Numpy"
      ],
      "metadata": {
        "id": "b013RbGBY3g5"
      }
    },
    {
      "cell_type": "code",
      "source": [
        "arr = np.arange(1, 10).reshape(3, 3)\n",
        "arr"
      ],
      "metadata": {
        "colab": {
          "base_uri": "https://localhost:8080/"
        },
        "id": "nqfdNO0LJaC-",
        "outputId": "5aac7469-f8ac-4c88-bfb9-fae77db359fe"
      },
      "execution_count": 4,
      "outputs": [
        {
          "output_type": "execute_result",
          "data": {
            "text/plain": [
              "array([[1, 2, 3],\n",
              "       [4, 5, 6],\n",
              "       [7, 8, 9]])"
            ]
          },
          "metadata": {},
          "execution_count": 4
        }
      ]
    },
    {
      "cell_type": "code",
      "source": [
        "np.max(arr) # np.max is an alias of np.amax, they both do same thing"
      ],
      "metadata": {
        "colab": {
          "base_uri": "https://localhost:8080/"
        },
        "id": "T99_95tvZUkj",
        "outputId": "34fb4dbd-5b64-419e-99b5-15f80dc872fc"
      },
      "execution_count": 11,
      "outputs": [
        {
          "output_type": "execute_result",
          "data": {
            "text/plain": [
              "9"
            ]
          },
          "metadata": {},
          "execution_count": 11
        }
      ]
    },
    {
      "cell_type": "code",
      "source": [
        "np.min(arr)"
      ],
      "metadata": {
        "colab": {
          "base_uri": "https://localhost:8080/"
        },
        "id": "AkHWXnuKZh6l",
        "outputId": "cbce70ca-42ba-4b44-d366-b6a02d72cf96"
      },
      "execution_count": 10,
      "outputs": [
        {
          "output_type": "execute_result",
          "data": {
            "text/plain": [
              "1"
            ]
          },
          "metadata": {},
          "execution_count": 10
        }
      ]
    },
    {
      "cell_type": "code",
      "source": [
        "np.mean(arr)"
      ],
      "metadata": {
        "colab": {
          "base_uri": "https://localhost:8080/"
        },
        "id": "DkcBrtl0aMnJ",
        "outputId": "79246cc0-daea-4ded-d7c0-2f2a1e97164c"
      },
      "execution_count": 12,
      "outputs": [
        {
          "output_type": "execute_result",
          "data": {
            "text/plain": [
              "5.0"
            ]
          },
          "metadata": {},
          "execution_count": 12
        }
      ]
    },
    {
      "cell_type": "code",
      "source": [
        "np.var(arr)"
      ],
      "metadata": {
        "colab": {
          "base_uri": "https://localhost:8080/"
        },
        "id": "YhI2IeVsauLQ",
        "outputId": "df052392-d08d-41c0-e445-b33a959f43aa"
      },
      "execution_count": 13,
      "outputs": [
        {
          "output_type": "execute_result",
          "data": {
            "text/plain": [
              "6.666666666666667"
            ]
          },
          "metadata": {},
          "execution_count": 13
        }
      ]
    },
    {
      "cell_type": "code",
      "source": [
        "np.std(arr)"
      ],
      "metadata": {
        "colab": {
          "base_uri": "https://localhost:8080/"
        },
        "id": "1Ts-r8SYayjd",
        "outputId": "bd2e06e3-2a1a-48d8-c2b5-806df03464cd"
      },
      "execution_count": 14,
      "outputs": [
        {
          "output_type": "execute_result",
          "data": {
            "text/plain": [
              "2.581988897471611"
            ]
          },
          "metadata": {},
          "execution_count": 14
        }
      ]
    },
    {
      "cell_type": "code",
      "source": [
        "np.median(arr)"
      ],
      "metadata": {
        "colab": {
          "base_uri": "https://localhost:8080/"
        },
        "id": "XJJzEUnna3OI",
        "outputId": "483f797c-9447-4a85-b433-29d2e4d873bc"
      },
      "execution_count": 15,
      "outputs": [
        {
          "output_type": "execute_result",
          "data": {
            "text/plain": [
              "5.0"
            ]
          },
          "metadata": {},
          "execution_count": 15
        }
      ]
    },
    {
      "cell_type": "code",
      "source": [
        "np.percentile(arr, 50) # returns median"
      ],
      "metadata": {
        "colab": {
          "base_uri": "https://localhost:8080/"
        },
        "id": "PoZKGrBlbDrU",
        "outputId": "86ad4221-1716-4f79-fdb3-1dcaf2956b89"
      },
      "execution_count": 16,
      "outputs": [
        {
          "output_type": "execute_result",
          "data": {
            "text/plain": [
              "5.0"
            ]
          },
          "metadata": {},
          "execution_count": 16
        }
      ]
    },
    {
      "cell_type": "code",
      "source": [
        "np.percentile(arr, 25) # returns median of first half of numbers"
      ],
      "metadata": {
        "colab": {
          "base_uri": "https://localhost:8080/"
        },
        "id": "zq2N9aVXbOiY",
        "outputId": "b098f2aa-b087-47dc-b218-b10648864aa3"
      },
      "execution_count": 17,
      "outputs": [
        {
          "output_type": "execute_result",
          "data": {
            "text/plain": [
              "3.0"
            ]
          },
          "metadata": {},
          "execution_count": 17
        }
      ]
    },
    {
      "cell_type": "code",
      "source": [
        "np.percentile(arr, 75) # returns median of second half of numbers"
      ],
      "metadata": {
        "colab": {
          "base_uri": "https://localhost:8080/"
        },
        "id": "gdzk-KUJbW7V",
        "outputId": "1214f3ab-29db-4e50-fc0a-bdc7484aa4d1"
      },
      "execution_count": 18,
      "outputs": [
        {
          "output_type": "execute_result",
          "data": {
            "text/plain": [
              "7.0"
            ]
          },
          "metadata": {},
          "execution_count": 18
        }
      ]
    },
    {
      "cell_type": "code",
      "source": [
        "# Compute interquartile range\n",
        "iqr = np.percentile(arr, 75) - np.percentile(arr, 25)\n",
        "iqr"
      ],
      "metadata": {
        "colab": {
          "base_uri": "https://localhost:8080/"
        },
        "id": "MUe4lOVObdy6",
        "outputId": "5e8ef173-e12b-42e6-f03a-f4fb0093f876"
      },
      "execution_count": 19,
      "outputs": [
        {
          "output_type": "execute_result",
          "data": {
            "text/plain": [
              "4.0"
            ]
          },
          "metadata": {},
          "execution_count": 19
        }
      ]
    },
    {
      "cell_type": "code",
      "source": [
        "z_score = (arr - np.mean(arr))/np.std(arr)\n",
        "z_score"
      ],
      "metadata": {
        "colab": {
          "base_uri": "https://localhost:8080/"
        },
        "id": "ztnM_VJ0e0Mm",
        "outputId": "b09c4bf3-621f-49b6-f03e-aca410ee801a"
      },
      "execution_count": 20,
      "outputs": [
        {
          "output_type": "execute_result",
          "data": {
            "text/plain": [
              "array([[-1.54919334, -1.161895  , -0.77459667],\n",
              "       [-0.38729833,  0.        ,  0.38729833],\n",
              "       [ 0.77459667,  1.161895  ,  1.54919334]])"
            ]
          },
          "metadata": {},
          "execution_count": 20
        }
      ]
    },
    {
      "cell_type": "code",
      "source": [
        "# Concatenating arrays\n",
        "a1 = np.arange(6).reshape(3, 2)\n",
        "a2 = np.arange(6, 12).reshape(3, 2)\n",
        "np.concatenate((a1, a2), axis = 0)"
      ],
      "metadata": {
        "colab": {
          "base_uri": "https://localhost:8080/"
        },
        "id": "Nbwx3Ay8fK1D",
        "outputId": "00a158ae-a244-40ed-d74e-17534ac99db5"
      },
      "execution_count": 22,
      "outputs": [
        {
          "output_type": "execute_result",
          "data": {
            "text/plain": [
              "array([[ 0,  1],\n",
              "       [ 2,  3],\n",
              "       [ 4,  5],\n",
              "       [ 6,  7],\n",
              "       [ 8,  9],\n",
              "       [10, 11]])"
            ]
          },
          "metadata": {},
          "execution_count": 22
        }
      ]
    },
    {
      "cell_type": "code",
      "source": [
        "a1 = np.arange(6).reshape(3, 2)\n",
        "a2 = np.arange(6, 12).reshape(3, 2)\n",
        "np.concatenate((a1, a2), axis = 1)"
      ],
      "metadata": {
        "colab": {
          "base_uri": "https://localhost:8080/"
        },
        "id": "dftqICCUhVNq",
        "outputId": "b57dda09-115e-41ab-9899-4f73a454f31b"
      },
      "execution_count": 23,
      "outputs": [
        {
          "output_type": "execute_result",
          "data": {
            "text/plain": [
              "array([[ 0,  1,  6,  7],\n",
              "       [ 2,  3,  8,  9],\n",
              "       [ 4,  5, 10, 11]])"
            ]
          },
          "metadata": {},
          "execution_count": 23
        }
      ]
    },
    {
      "cell_type": "code",
      "source": [
        "np.vstack((a1, a2)) # stacks arrays row wise same as concatenating with axis = 0"
      ],
      "metadata": {
        "colab": {
          "base_uri": "https://localhost:8080/"
        },
        "id": "9VQtKxngquKM",
        "outputId": "5e070f3e-3fe0-48e4-9f03-926e4f9df96c"
      },
      "execution_count": 25,
      "outputs": [
        {
          "output_type": "execute_result",
          "data": {
            "text/plain": [
              "array([[ 0,  1],\n",
              "       [ 2,  3],\n",
              "       [ 4,  5],\n",
              "       [ 6,  7],\n",
              "       [ 8,  9],\n",
              "       [10, 11]])"
            ]
          },
          "metadata": {},
          "execution_count": 25
        }
      ]
    },
    {
      "cell_type": "code",
      "source": [
        "np.hstack((a1, a2)) # stacks arrays column wise same as concatenating with axis = 1"
      ],
      "metadata": {
        "colab": {
          "base_uri": "https://localhost:8080/"
        },
        "id": "u_XW6A2ZrItS",
        "outputId": "0a77200b-32cc-4a2d-b648-8119105f4c79"
      },
      "execution_count": 26,
      "outputs": [
        {
          "output_type": "execute_result",
          "data": {
            "text/plain": [
              "array([[ 0,  1,  6,  7],\n",
              "       [ 2,  3,  8,  9],\n",
              "       [ 4,  5, 10, 11]])"
            ]
          },
          "metadata": {},
          "execution_count": 26
        }
      ]
    },
    {
      "cell_type": "code",
      "source": [
        ""
      ],
      "metadata": {
        "id": "VrBZLkzjraH4"
      },
      "execution_count": null,
      "outputs": []
    }
  ]
}